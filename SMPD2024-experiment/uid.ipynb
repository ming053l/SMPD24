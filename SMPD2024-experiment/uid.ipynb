{
 "cells": [
  {
   "cell_type": "code",
   "execution_count": 1,
   "metadata": {},
   "outputs": [],
   "source": [
    "import json\n",
    "import pandas as pd\n",
    "import numpy as np\n",
    "from sklearn.preprocessing import OneHotEncoder\n"
   ]
  },
  {
   "cell_type": "code",
   "execution_count": 2,
   "metadata": {},
   "outputs": [],
   "source": [
    "train_uid_list = []\n",
    "test_uid_list = []\n",
    "cat_list = []\n",
    "subcat_list = []\n",
    "concept_list = []\n",
    "with open(\"/ssd5/ming/CPDN/dataset/train_allmetadata_json/train_category.json\") as f:\n",
    "    train_cat = json.load(f)\n",
    "    for k, v in enumerate(train_cat):\n",
    "        train_uid_list.append(v['Uid'])\n",
    "        cat_list.append(v['Category'])\n",
    "        subcat_list.append(v['Subcategory'])\n",
    "        concept_list.append(v['Concept'])\n",
    "f.close()\n",
    "# train_uid_list"
   ]
  },
  {
   "cell_type": "code",
   "execution_count": 3,
   "metadata": {},
   "outputs": [],
   "source": [
    "fold = pd.read_csv(\"/ssd6/ming/SMPD2023/uid_fold.csv\")\n",
    "# Convert DataFrame to dictionary with Uid as keys and Fold as values\n",
    "uid_to_fold_dict = fold.set_index('Uid')['Fold'].to_dict()\n",
    "\n",
    "uid_to_fold_dict"
   ]
  },
  {
   "cell_type": "code",
   "execution_count": 3,
   "metadata": {},
   "outputs": [],
   "source": [
    "cnt = 0\n",
    "for uid in set(test_uid_list):\n",
    "    if uid not in train_uid_list:\n",
    "        cnt += 1\n",
    "        print(uid)\n",
    "# print(cnt / len(set(test_uid_list)))\n"
   ]
  },
  {
   "cell_type": "code",
   "execution_count": 4,
   "metadata": {},
   "outputs": [],
   "source": [
    "uid_set = set(train_uid_list)\n",
    "id_list = list(range(len(uid_set)))\n",
    "uid_zip = zip(uid_set, id_list)\n",
    "uid_dict = dict(uid_zip)\n",
    "\n",
    "cat_set = set(cat_list)\n",
    "cat_list = list(range(len(cat_set)))\n",
    "cat_zip = zip(cat_set, cat_list)\n",
    "cat_dict = dict(cat_zip)\n",
    "\n",
    "subcat_set = set(subcat_list)\n",
    "subcat_list = list(range(len(subcat_set)))\n",
    "subcat_zip = zip(subcat_set, subcat_list)\n",
    "subcat_dict = dict(subcat_zip)\n",
    "\n",
    "concept_set = set(concept_list)\n",
    "concept_list = list(range(len(concept_set)))\n",
    "concept_zip = zip(concept_set, concept_list)\n",
    "concept_dict = dict(concept_zip)"
   ]
  },
  {
   "cell_type": "code",
   "execution_count": 6,
   "metadata": {},
   "outputs": [],
   "source": [
    "import pandas as pd\n",
    "from sklearn.model_selection import GroupKFold"
   ]
  },
  {
   "cell_type": "code",
   "execution_count": 8,
   "metadata": {},
   "outputs": [
    {
     "data": {
      "text/plain": [
       "38312"
      ]
     },
     "execution_count": 8,
     "metadata": {},
     "output_type": "execute_result"
    }
   ],
   "source": [
    "len(uid_dict)"
   ]
  },
  {
   "cell_type": "code",
   "execution_count": 6,
   "metadata": {},
   "outputs": [],
   "source": [
    "with open(\"/ssd5/ming/CPDN/dataset/test_uid.json\", \"a+\") as f:\n",
    "    json.dump(uid_dict, f)\n",
    "f.close()\n",
    "with open(\"/ssd5/ming/CPDN/dataset/test_category.json\", \"a+\") as f:\n",
    "    json.dump(cat_dict, f)\n",
    "f.close()\n",
    "with open(\"/ssd5/ming/CPDN/dataset/test_subcategory.json\", \"a+\") as f:\n",
    "    json.dump(subcat_dict, f)\n",
    "f.close()\n",
    "with open(\"/ssd5/ming/CPDN/dataset/test_concept.json\", \"a+\") as f:\n",
    "    json.dump(concept_dict, f)\n",
    "f.close()\n",
    "uid_set = [[i] for i in set(id_list)]\n",
    "one_hot = OneHotEncoder()\n",
    "one_hot.fit(uid_set)\n",
    "user = []\n",
    "with open(\"/ssd5/ming/CPDN/dataset/test_allmetadata_json/test_category.json\") as f:\n",
    "    train_cat = json.load(f)\n",
    "    cat_dic = {}\n",
    "    for k, v in enumerate(train_cat):\n",
    "        uid = [[v['Uid']]]\n",
    "        #user_data = one_hot.transform(uid).toarray()\n",
    "        user_data = uid[0][0]\n",
    "        user.append(user_data)\n",
    "f.close()\n",
    "\n",
    "user = np.asarray(user)\n",
    "np.save(\"/ssd5/ming/CPDN/dataset/test_user_id.npy\", user)"
   ]
  },
  {
   "cell_type": "code",
   "execution_count": 7,
   "metadata": {},
   "outputs": [
    {
     "data": {
      "text/plain": [
       "array(['8770@N36', '10082@N16', '10082@N16', ..., '5656@N26', '28302@N36',\n",
       "       '102192@N21'], dtype='<U10')"
      ]
     },
     "execution_count": 7,
     "metadata": {},
     "output_type": "execute_result"
    }
   ],
   "source": [
    "user"
   ]
  },
  {
   "cell_type": "code",
   "execution_count": 5,
   "metadata": {},
   "outputs": [
    {
     "data": {
      "text/plain": [
       "38312"
      ]
     },
     "execution_count": 5,
     "metadata": {},
     "output_type": "execute_result"
    }
   ],
   "source": [
    "import pickle as pk\n",
    "import pandas as pd\n",
    "import numpy as np\n",
    "import json\n",
    "uid_json = open(\"/ssd5/ming/CPDN/dataset/uid.json\")\n",
    "uid_dict = json.load(uid_json)\n",
    "uid_dict\n",
    "len(uid_dict)"
   ]
  },
  {
   "cell_type": "code",
   "execution_count": 6,
   "metadata": {},
   "outputs": [],
   "source": [
    "\n",
    "test_uid_list = []\n",
    "with open(\"/ssd5/ming/CPDN/dataset/test_allmetadata_json/test_category.json\") as f:\n",
    "    train_cat = json.load(f)\n",
    "    for k, v in enumerate(train_cat):\n",
    "        test_uid_list.append(v['Uid'])\n",
    "f.close()"
   ]
  },
  {
   "cell_type": "code",
   "execution_count": null,
   "metadata": {},
   "outputs": [],
   "source": [
    "for i in uid_dict:\n",
    "    print(i, uid_dict[i])"
   ]
  },
  {
   "cell_type": "code",
   "execution_count": null,
   "metadata": {},
   "outputs": [],
   "source": [
    "uid_set = set(test_uid_list)\n",
    "id_list = list(range(len(uid_set)))\n",
    "uid_zip = zip(uid_set, id_list)\n",
    "test_uid_dict = dict(uid_zip)\n",
    "uid_set"
   ]
  },
  {
   "cell_type": "code",
   "execution_count": null,
   "metadata": {},
   "outputs": [],
   "source": [
    "max_value = max(uid_dict.values())\n",
    "\n",
    "# 合併字典\n",
    "for key in uid_set:\n",
    "    if key not in uid_dict:\n",
    "        max_value += 1\n",
    "        uid_dict[key] = max_value\n",
    "uid_dict"
   ]
  },
  {
   "cell_type": "code",
   "execution_count": null,
   "metadata": {},
   "outputs": [],
   "source": [
    "uid_dict"
   ]
  },
  {
   "cell_type": "code",
   "execution_count": 16,
   "metadata": {},
   "outputs": [],
   "source": [
    "with open(\"/ssd5/ming/CPDN/dataset/train_test_uid2.json\", \"w\") as f:\n",
    "    json.dump(uid_dict, f)"
   ]
  }
 ],
 "metadata": {
  "kernelspec": {
   "display_name": "Python 3",
   "language": "python",
   "name": "python3"
  },
  "language_info": {
   "codemirror_mode": {
    "name": "ipython",
    "version": 3
   },
   "file_extension": ".py",
   "mimetype": "text/x-python",
   "name": "python",
   "nbconvert_exporter": "python",
   "pygments_lexer": "ipython3",
   "version": "3.8.undefined"
  }
 },
 "nbformat": 4,
 "nbformat_minor": 2
}
